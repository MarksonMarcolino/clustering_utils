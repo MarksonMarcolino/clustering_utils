{
 "cells": [
  {
   "cell_type": "code",
   "execution_count": 5,
   "metadata": {},
   "outputs": [
    {
     "name": "stdout",
     "output_type": "stream",
     "text": [
      "[Scaling] Columns to scale: ['nu_inep', 'AbsAlto', 'AbsModerado', 'AbsPequeno', 'AbsSevero', 'AbsSignificativo', 'qtd_alunos_escola', 'pp_AbsPequeno', 'pp_AbsModerado', 'pp_AbsSignificativo', 'pp_AbsAlto', 'pp_AbsSevero', 'indice_meses_reportados', 'cod_uf', 'CO_UF', 'CO_MUNICIPIO', 'CO_ENTIDADE', 'TP_DEPENDENCIA', 'TP_LOCALIZACAO', 'TP_LOCALIZACAO_DIFERENCIADA', 'CO_CEP', 'NU_DDD', 'NU_TELEFONE', 'TP_SITUACAO_FUNCIONAMENTO', 'IN_VINCULO_SECRETARIA_EDUCACAO', 'IN_VINCULO_SEGURANCA_PUBLICA', 'IN_VINCULO_SECRETARIA_SAUDE', 'IN_VINCULO_OUTRO_ORGAO', 'IN_PODER_PUBLICO_PARCERIA', 'TP_REGULAMENTACAO', 'TP_RESPONSAVEL_REGULAMENTACAO', 'IN_LOCAL_FUNC_PREDIO_ESCOLAR', 'TP_OCUPACAO_PREDIO_ESCOLAR', 'IN_LOCAL_FUNC_SOCIOEDUCATIVO', 'IN_LOCAL_FUNC_UNID_PRISIONAL', 'IN_LOCAL_FUNC_PRISIONAL_SOCIO', 'IN_LOCAL_FUNC_GALPAO', 'IN_LOCAL_FUNC_SALAS_OUTRA_ESC', 'IN_LOCAL_FUNC_OUTROS', 'IN_PREDIO_COMPARTILHADO', 'IN_AGUA_POTAVEL', 'IN_AGUA_REDE_PUBLICA', 'IN_AGUA_POCO_ARTESIANO', 'IN_AGUA_CACIMBA', 'IN_AGUA_FONTE_RIO', 'IN_AGUA_INEXISTENTE', 'IN_ENERGIA_REDE_PUBLICA', 'IN_ENERGIA_GERADOR_FOSSIL', 'IN_ENERGIA_RENOVAVEL', 'IN_ENERGIA_INEXISTENTE', 'IN_ESGOTO_REDE_PUBLICA', 'IN_ESGOTO_FOSSA_SEPTICA', 'IN_ESGOTO_FOSSA_COMUM', 'IN_ESGOTO_FOSSA', 'IN_ESGOTO_INEXISTENTE', 'IN_LIXO_SERVICO_COLETA', 'IN_LIXO_QUEIMA', 'IN_LIXO_ENTERRA', 'IN_LIXO_DESTINO_FINAL_PUBLICO', 'IN_LIXO_DESCARTA_OUTRA_AREA', 'IN_TRATAMENTO_LIXO_SEPARACAO', 'IN_TRATAMENTO_LIXO_REUTILIZA', 'IN_TRATAMENTO_LIXO_RECICLAGEM', 'IN_TRATAMENTO_LIXO_INEXISTENTE', 'IN_ALMOXARIFADO', 'IN_AREA_VERDE', 'IN_AUDITORIO', 'IN_BANHEIRO', 'IN_BANHEIRO_EI', 'IN_BANHEIRO_PNE', 'IN_BANHEIRO_FUNCIONARIOS', 'IN_BANHEIRO_CHUVEIRO', 'IN_BIBLIOTECA', 'IN_BIBLIOTECA_SALA_LEITURA', 'IN_COZINHA', 'IN_DESPENSA', 'IN_DORMITORIO_ALUNO', 'IN_DORMITORIO_PROFESSOR', 'IN_LABORATORIO_CIENCIAS', 'IN_LABORATORIO_INFORMATICA', 'IN_LABORATORIO_EDUC_PROF', 'IN_PATIO_COBERTO', 'IN_PATIO_DESCOBERTO', 'IN_PARQUE_INFANTIL', 'IN_PISCINA', 'IN_QUADRA_ESPORTES', 'IN_QUADRA_ESPORTES_COBERTA', 'IN_QUADRA_ESPORTES_DESCOBERTA', 'IN_REFEITORIO', 'IN_SALA_ATELIE_ARTES', 'IN_SALA_MUSICA_CORAL', 'IN_SALA_ESTUDIO_DANCA', 'IN_SALA_MULTIUSO', 'IN_SALA_ESTUDIO_GRAVACAO', 'IN_SALA_OFICINAS_EDUC_PROF', 'IN_SALA_DIRETORIA', 'IN_SALA_LEITURA', 'IN_SALA_PROFESSOR', 'IN_SALA_REPOUSO_ALUNO', 'IN_SECRETARIA', 'IN_SALA_ATENDIMENTO_ESPECIAL', 'IN_TERREIRAO', 'IN_VIVEIRO', 'IN_DEPENDENCIAS_OUTRAS', 'IN_ACESSIBILIDADE_CORRIMAO', 'IN_ACESSIBILIDADE_ELEVADOR', 'IN_ACESSIBILIDADE_PISOS_TATEIS', 'IN_ACESSIBILIDADE_VAO_LIVRE', 'IN_ACESSIBILIDADE_RAMPAS', 'IN_ACESSIBILIDADE_SINAL_SONORO', 'IN_ACESSIBILIDADE_SINAL_TATIL', 'IN_ACESSIBILIDADE_SINAL_VISUAL', 'IN_ACESSIBILIDADE_INEXISTENTE', 'QT_SALAS_UTILIZADAS_DENTRO', 'QT_SALAS_UTILIZADAS_FORA', 'QT_SALAS_UTILIZADAS', 'QT_SALAS_UTILIZA_CLIMATIZADAS', 'QT_SALAS_UTILIZADAS_ACESSIVEIS', 'IN_EQUIP_PARABOLICA', 'IN_COMPUTADOR', 'IN_EQUIP_COPIADORA', 'IN_EQUIP_IMPRESSORA', 'IN_EQUIP_IMPRESSORA_MULT', 'IN_EQUIP_SCANNER', 'IN_EQUIP_NENHUM', 'IN_EQUIP_DVD', 'QT_EQUIP_DVD', 'IN_EQUIP_SOM', 'QT_EQUIP_SOM', 'IN_EQUIP_TV', 'QT_EQUIP_TV', 'IN_EQUIP_LOUSA_DIGITAL', 'QT_EQUIP_LOUSA_DIGITAL', 'IN_EQUIP_MULTIMIDIA', 'QT_EQUIP_MULTIMIDIA', 'IN_DESKTOP_ALUNO', 'QT_DESKTOP_ALUNO', 'IN_COMP_PORTATIL_ALUNO', 'QT_COMP_PORTATIL_ALUNO', 'IN_TABLET_ALUNO', 'QT_TABLET_ALUNO', 'IN_INTERNET', 'IN_INTERNET_ALUNOS', 'IN_INTERNET_ADMINISTRATIVO', 'IN_INTERNET_APRENDIZAGEM', 'IN_INTERNET_COMUNIDADE', 'IN_ACESSO_INTERNET_COMPUTADOR', 'IN_ACES_INTERNET_DISP_PESSOAIS', 'TP_REDE_LOCAL', 'IN_BANDA_LARGA', 'IN_PROF_ADMINISTRATIVOS', 'QT_PROF_ADMINISTRATIVOS', 'IN_PROF_SERVICOS_GERAIS', 'QT_PROF_SERVICOS_GERAIS', 'IN_PROF_BIBLIOTECARIO', 'QT_PROF_BIBLIOTECARIO', 'IN_PROF_SAUDE', 'QT_PROF_SAUDE', 'IN_PROF_COORDENADOR', 'QT_PROF_COORDENADOR', 'IN_PROF_FONAUDIOLOGO', 'QT_PROF_FONAUDIOLOGO', 'IN_PROF_NUTRICIONISTA', 'QT_PROF_NUTRICIONISTA', 'IN_PROF_PSICOLOGO', 'QT_PROF_PSICOLOGO', 'IN_PROF_ALIMENTACAO', 'QT_PROF_ALIMENTACAO', 'IN_PROF_PEDAGOGIA', 'QT_PROF_PEDAGOGIA', 'IN_PROF_SECRETARIO', 'QT_PROF_SECRETARIO', 'IN_PROF_SEGURANCA', 'QT_PROF_SEGURANCA', 'IN_PROF_MONITORES', 'QT_PROF_MONITORES', 'IN_PROF_GESTAO', 'QT_PROF_GESTAO', 'IN_PROF_ASSIST_SOCIAL', 'QT_PROF_ASSIST_SOCIAL', 'IN_PROF_TRAD_LIBRAS', 'QT_PROF_TRAD_LIBRAS', 'IN_ALIMENTACAO', 'IN_MATERIAL_PED_MULTIMIDIA', 'IN_MATERIAL_PED_INFANTIL', 'IN_MATERIAL_PED_CIENTIFICO', 'IN_MATERIAL_PED_DIFUSAO', 'IN_MATERIAL_PED_MUSICAL', 'IN_MATERIAL_PED_JOGOS', 'IN_MATERIAL_PED_ARTISTICAS', 'IN_MATERIAL_PED_PROFISSIONAL', 'IN_MATERIAL_PED_DESPORTIVA', 'IN_MATERIAL_PED_INDIGENA', 'IN_MATERIAL_PED_ETNICO', 'IN_MATERIAL_PED_CAMPO', 'IN_MATERIAL_PED_BIL_SURDOS', 'IN_MATERIAL_PED_NENHUM', 'IN_EDUCACAO_INDIGENA', 'IN_EXAME_SELECAO', 'IN_REDES_SOCIAIS', 'IN_ESPACO_ATIVIDADE', 'IN_ESPACO_EQUIPAMENTO', 'IN_ORGAO_ASS_PAIS', 'IN_ORGAO_ASS_PAIS_MESTRES', 'IN_ORGAO_CONSELHO_ESCOLAR', 'IN_ORGAO_GREMIO_ESTUDANTIL', 'IN_ORGAO_OUTROS', 'IN_ORGAO_NENHUM', 'TP_PROPOSTA_PEDAGOGICA', 'TP_AEE', 'TP_ATIVIDADE_COMPLEMENTAR', 'IN_MEDIACAO_PRESENCIAL', 'IN_MEDIACAO_SEMIPRESENCIAL', 'IN_MEDIACAO_EAD', 'IN_REGULAR', 'IN_DIURNO', 'IN_NOTURNO', 'IN_EAD', 'IN_ESCOLARIZACAO', 'IN_INF', 'IN_INF_CRE', 'IN_INF_PRE', 'IN_FUND', 'IN_FUND_AI', 'IN_FUND_AF', 'IN_MED', 'IN_PROF', 'IN_PROF_TEC', 'IN_EJA', 'IN_EJA_FUND', 'IN_EJA_MED', 'IN_ESP', 'IN_ESP_CC', 'IN_ESP_CE', 'QT_MAT_BAS', 'QT_MAT_INF', 'QT_MAT_INF_CRE', 'QT_MAT_INF_PRE', 'QT_MAT_FUND', 'QT_MAT_FUND_AI', 'QT_MAT_FUND_AI_1', 'QT_MAT_FUND_AI_2', 'QT_MAT_FUND_AI_3', 'QT_MAT_FUND_AI_4', 'QT_MAT_FUND_AI_5', 'QT_MAT_FUND_AF', 'QT_MAT_FUND_AF_6', 'QT_MAT_FUND_AF_7', 'QT_MAT_FUND_AF_8', 'QT_MAT_FUND_AF_9', 'QT_MAT_MED', 'QT_MAT_MED_PROP', 'QT_MAT_MED_PROP_1', 'QT_MAT_MED_PROP_2', 'QT_MAT_MED_PROP_3', 'QT_MAT_MED_PROP_4', 'QT_MAT_MED_PROP_NS', 'QT_MAT_MED_CT', 'QT_MAT_MED_CT_1', 'QT_MAT_MED_CT_2', 'QT_MAT_MED_CT_3', 'QT_MAT_MED_CT_4', 'QT_MAT_MED_CT_NS', 'QT_MAT_MED_NM', 'QT_MAT_MED_NM_1', 'QT_MAT_MED_NM_2', 'QT_MAT_MED_NM_3', 'QT_MAT_MED_NM_4', 'QT_MAT_PROF', 'QT_MAT_PROF_TEC', 'QT_MAT_PROF_TEC_CONC', 'QT_MAT_PROF_TEC_SUBS', 'QT_MAT_PROF_FIC_CONC', 'QT_MAT_EJA', 'QT_MAT_EJA_FUND', 'QT_MAT_EJA_FUND_AI', 'QT_MAT_EJA_FUND_AF', 'QT_MAT_EJA_FUND_FIC', 'QT_MAT_EJA_MED', 'QT_MAT_EJA_MED_NPROF', 'QT_MAT_EJA_MED_FIC', 'QT_MAT_EJA_MED_TEC', 'QT_MAT_ESP', 'QT_MAT_ESP_CC', 'QT_MAT_ESP_CE', 'QT_MAT_BAS_FEM', 'QT_MAT_BAS_MASC', 'QT_MAT_BAS_ND', 'QT_MAT_BAS_BRANCA', 'QT_MAT_BAS_PRETA', 'QT_MAT_BAS_PARDA', 'QT_MAT_BAS_AMARELA', 'QT_MAT_BAS_INDIGENA', 'QT_MAT_BAS_0_3', 'QT_MAT_BAS_4_5', 'QT_MAT_BAS_6_10', 'QT_MAT_BAS_11_14', 'QT_MAT_BAS_15_17', 'QT_MAT_BAS_18_MAIS', 'QT_MAT_BAS_D', 'QT_MAT_BAS_N', 'QT_MAT_BAS_EAD', 'QT_MAT_INF_INT', 'QT_MAT_INF_CRE_INT', 'QT_MAT_INF_PRE_INT', 'QT_MAT_FUND_INT', 'QT_MAT_FUND_AI_INT', 'QT_MAT_FUND_AF_INT', 'QT_MAT_MED_INT', 'QT_MAT_ZR_URB', 'QT_MAT_ZR_RUR', 'QT_MAT_ZR_NA', 'QT_TRANSP_PUBLICO', 'QT_TRANSP_RESP_EST', 'QT_TRANSP_RESP_MUN', 'QT_DOC_BAS', 'QT_DOC_INF', 'QT_DOC_INF_CRE', 'QT_DOC_INF_PRE', 'QT_DOC_FUND', 'QT_DOC_FUND_AI', 'QT_DOC_FUND_AF', 'QT_DOC_MED', 'QT_DOC_PROF', 'QT_DOC_PROF_TEC', 'QT_DOC_EJA', 'QT_DOC_EJA_FUND', 'QT_DOC_EJA_MED', 'QT_DOC_ESP', 'QT_DOC_ESP_CC', 'QT_DOC_ESP_CE', 'QT_TUR_BAS', 'QT_TUR_INF', 'QT_TUR_INF_CRE', 'QT_TUR_INF_PRE', 'QT_TUR_FUND', 'QT_TUR_FUND_AI', 'QT_TUR_FUND_AF', 'QT_TUR_MED', 'QT_TUR_PROF', 'QT_TUR_PROF_TEC', 'QT_TUR_EJA', 'QT_TUR_EJA_FUND', 'QT_TUR_EJA_MED', 'QT_TUR_ESP', 'QT_TUR_ESP_CC', 'QT_TUR_ESP_CE', 'QT_TUR_BAS_D', 'QT_TUR_BAS_N', 'QT_TUR_BAS_EAD', 'QT_TUR_INF_INT', 'QT_TUR_INF_CRE_INT', 'QT_TUR_INF_PRE_INT', 'QT_TUR_FUND_INT', 'QT_TUR_FUND_AI_INT', 'QT_TUR_FUND_AF_INT', 'QT_TUR_MED_INT']\n",
      "[Scaling] Columns to keep: ['media_freq_media_valida_pct', 'desvio_padrao_freq_media_valida_pct']\n",
      "[Scaling] Using scaler: minmax\n"
     ]
    }
   ],
   "source": [
    "from clustering_utils import run_full_benchmark\n",
    "from clustering_utils import prepare_scaled_df\n",
    "from clustering_utils.reporting import (\n",
    "    export_top_cluster_reports,\n",
    "    export_single_cluster_report\n",
    ")\n",
    "from clustering_utils import generate_all_cluster_plots\n",
    "from clustering_utils import generate_top_cluster_visuals\n",
    "from itertools import combinations, product\n",
    "import pandas as pd\n",
    "\n",
    "df = pd.read_csv(\"/Users/marksonrebelomarcolino/Downloads/spg_uf_selec_censo_2023.csv\", low_memory=False)\n",
    "#df = pd.read_parquet(\"/Users/marksonrebelomarcolino/Documents/gestao_presente/2025/Fevereiro/artigo/base_final_sgp_censo_artigo.parquet\")\n",
    "\n",
    "# 1. Remover colunas com mais de 50% de valores nulos\n",
    "threshold = 0.1\n",
    "null_percentages = df.isnull().mean()\n",
    "cols_to_drop = null_percentages[null_percentages > threshold].index.tolist()\n",
    "df_cleaned = df.drop(columns=cols_to_drop)\n",
    "# 1. Carregar apenas colunas numéricas do df_cleaned\n",
    "numeric_df = df_cleaned.select_dtypes(include=[\"number\"])\n",
    "\n",
    "# 2. Remover linhas com valores nulos\n",
    "df_final = numeric_df.dropna()\n",
    "\n",
    "# Definir colunas\n",
    "colunas_para_normalizar = [\n",
    "    'pp_AbsPequeno', 'pp_AbsModerado', 'pp_AbsSignificativo', 'pp_AbsAlto', 'pp_AbsSevero',\n",
    "    'Estrutura', 'PED', 'LibrasBraile', 'TratamentoLixo', 'PCD',\n",
    "    'Acessibilidade', 'Internet', 'Transporte', 'TP_LOCALIZACAO'\n",
    "]\n",
    "\n",
    "colunas_sem_normalizar = [\n",
    "    'media_freq_media_valida_pct',  \n",
    "    'desvio_padrao_freq_media_valida_pct'\n",
    "]\n",
    "\n",
    "# Define parameters\n",
    "benchmark_params = {\n",
    "    \"algorithms\": [\"KMeans\", \"MeanShift\"],\n",
    "    \"cluster_range\": range(3,5),\n",
    "    \"verbose\": False,\n",
    "    \"top_n\": 5,\n",
    "    \"return_best\": False\n",
    "}\n",
    "\n",
    "df_scaled = prepare_scaled_df(\n",
    "    df_final,\n",
    "    cols_to_keep=colunas_sem_normalizar,\n",
    "    scaler_type=\"minmax\",\n",
    "    minmax_range=(0, 5)\n",
    ")"
   ]
  },
  {
   "cell_type": "code",
   "execution_count": null,
   "metadata": {},
   "outputs": [],
   "source": []
  },
  {
   "cell_type": "code",
   "execution_count": 6,
   "metadata": {},
   "outputs": [
    {
     "data": {
      "text/plain": [
       "0       90.16\n",
       "2       90.14\n",
       "3       90.31\n",
       "4       90.31\n",
       "5       90.31\n",
       "        ...  \n",
       "4239    62.67\n",
       "4240    84.14\n",
       "4241    83.97\n",
       "4242    63.59\n",
       "4243    61.85\n",
       "Name: media_freq_media_valida_pct, Length: 3888, dtype: float64"
      ]
     },
     "execution_count": 6,
     "metadata": {},
     "output_type": "execute_result"
    }
   ],
   "source": [
    "df_scaled[\"media_freq_media_valida_pct\"]"
   ]
  },
  {
   "cell_type": "code",
   "execution_count": 7,
   "metadata": {},
   "outputs": [],
   "source": [
    "results = run_full_benchmark(df_scaled, **benchmark_params)"
   ]
  },
  {
   "cell_type": "code",
   "execution_count": 10,
   "metadata": {},
   "outputs": [
    {
     "data": {
      "text/html": [
       "<div>\n",
       "<style scoped>\n",
       "    .dataframe tbody tr th:only-of-type {\n",
       "        vertical-align: middle;\n",
       "    }\n",
       "\n",
       "    .dataframe tbody tr th {\n",
       "        vertical-align: top;\n",
       "    }\n",
       "\n",
       "    .dataframe thead th {\n",
       "        text-align: right;\n",
       "    }\n",
       "</style>\n",
       "<table border=\"1\" class=\"dataframe\">\n",
       "  <thead>\n",
       "    <tr style=\"text-align: right;\">\n",
       "      <th></th>\n",
       "      <th>Algorithm</th>\n",
       "      <th>Params</th>\n",
       "      <th>SilhouetteScore</th>\n",
       "      <th>NumClusters</th>\n",
       "      <th>ExecutionTime</th>\n",
       "    </tr>\n",
       "  </thead>\n",
       "  <tbody>\n",
       "    <tr>\n",
       "      <th>0</th>\n",
       "      <td>KMeans</td>\n",
       "      <td>{'n_clusters': 3}</td>\n",
       "      <td>0.150321</td>\n",
       "      <td>3</td>\n",
       "      <td>0.378460</td>\n",
       "    </tr>\n",
       "    <tr>\n",
       "      <th>2</th>\n",
       "      <td>MeanShift</td>\n",
       "      <td>{}</td>\n",
       "      <td>0.149077</td>\n",
       "      <td>9</td>\n",
       "      <td>52.169090</td>\n",
       "    </tr>\n",
       "    <tr>\n",
       "      <th>1</th>\n",
       "      <td>KMeans</td>\n",
       "      <td>{'n_clusters': 4}</td>\n",
       "      <td>0.118281</td>\n",
       "      <td>4</td>\n",
       "      <td>0.391095</td>\n",
       "    </tr>\n",
       "  </tbody>\n",
       "</table>\n",
       "</div>"
      ],
      "text/plain": [
       "   Algorithm             Params  SilhouetteScore  NumClusters  ExecutionTime\n",
       "0     KMeans  {'n_clusters': 3}         0.150321            3       0.378460\n",
       "2  MeanShift                 {}         0.149077            9      52.169090\n",
       "1     KMeans  {'n_clusters': 4}         0.118281            4       0.391095"
      ]
     },
     "execution_count": 10,
     "metadata": {},
     "output_type": "execute_result"
    }
   ],
   "source": [
    "results"
   ]
  },
  {
   "cell_type": "code",
   "execution_count": 8,
   "metadata": {},
   "outputs": [
    {
     "name": "stderr",
     "output_type": "stream",
     "text": [
      "/Users/marksonrebelomarcolino/Projects/clustering_utils/.venv/lib/python3.12/site-packages/umap/umap_.py:1952: UserWarning: n_jobs value 1 overridden to 1 by setting random_state. Use no seed for parallelism.\n",
      "  warn(\n",
      "/Users/marksonrebelomarcolino/Projects/clustering_utils/.venv/lib/python3.12/site-packages/umap/umap_.py:1952: UserWarning: n_jobs value 1 overridden to 1 by setting random_state. Use no seed for parallelism.\n",
      "  warn(\n",
      "/Users/marksonrebelomarcolino/Projects/clustering_utils/.venv/lib/python3.12/site-packages/umap/umap_.py:1952: UserWarning: n_jobs value 1 overridden to 1 by setting random_state. Use no seed for parallelism.\n",
      "  warn(\n"
     ]
    }
   ],
   "source": [
    "generate_top_cluster_visuals(df_scaled, results, top_n=3)"
   ]
  },
  {
   "cell_type": "code",
   "execution_count": 9,
   "metadata": {},
   "outputs": [
    {
     "name": "stdout",
     "output_type": "stream",
     "text": [
      " Generating report for Top 1: KMeans with {'n_clusters': 3}\n",
      "✔ Cluster counts exported to cluster_reports/top_3_20250402_163506/1_KMeans_n_clusters=3/counts.csv\n",
      "✔ Cluster summary exported to cluster_reports/top_3_20250402_163506/1_KMeans_n_clusters=3/summary.csv\n",
      "✔ PCA components exported to cluster_reports/top_3_20250402_163506/1_KMeans_n_clusters=3/pca.csv\n",
      "✔ Cluster centroids exported to cluster_reports/top_3_20250402_163506/1_KMeans_n_clusters=3/centroids.csv\n",
      " Generating report for Top 2: MeanShift with {}\n",
      "✔ Cluster counts exported to cluster_reports/top_3_20250402_163506/2_MeanShift_default/counts.csv\n",
      "✔ Cluster summary exported to cluster_reports/top_3_20250402_163506/2_MeanShift_default/summary.csv\n",
      "✔ PCA components exported to cluster_reports/top_3_20250402_163506/2_MeanShift_default/pca.csv\n",
      "✔ Cluster centroids exported to cluster_reports/top_3_20250402_163506/2_MeanShift_default/centroids.csv\n",
      " Generating report for Top 3: KMeans with {'n_clusters': 4}\n",
      "✔ Cluster counts exported to cluster_reports/top_3_20250402_163506/3_KMeans_n_clusters=4/counts.csv\n",
      "✔ Cluster summary exported to cluster_reports/top_3_20250402_163506/3_KMeans_n_clusters=4/summary.csv\n",
      "✔ PCA components exported to cluster_reports/top_3_20250402_163506/3_KMeans_n_clusters=4/pca.csv\n",
      "✔ Cluster centroids exported to cluster_reports/top_3_20250402_163506/3_KMeans_n_clusters=4/centroids.csv\n",
      "\n",
      " All reports saved to: cluster_reports/top_3_20250402_163506\n"
     ]
    }
   ],
   "source": [
    "export_top_cluster_reports(df_scaled, results, top_n=3)"
   ]
  }
 ],
 "metadata": {
  "kernelspec": {
   "display_name": ".venv",
   "language": "python",
   "name": "python3"
  },
  "language_info": {
   "codemirror_mode": {
    "name": "ipython",
    "version": 3
   },
   "file_extension": ".py",
   "mimetype": "text/x-python",
   "name": "python",
   "nbconvert_exporter": "python",
   "pygments_lexer": "ipython3",
   "version": "3.12.3"
  }
 },
 "nbformat": 4,
 "nbformat_minor": 2
}
